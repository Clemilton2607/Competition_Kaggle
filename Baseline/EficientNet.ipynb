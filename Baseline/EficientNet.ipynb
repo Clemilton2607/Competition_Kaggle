{
 "cells": [
  {
   "cell_type": "code",
   "execution_count": 18,
   "id": "5406ac8c",
   "metadata": {},
   "outputs": [],
   "source": [
    "import os\n",
    "import pandas as pd\n",
    "import numpy as np\n",
    "import tensorflow as tf\n",
    "import matplotlib.pyplot as plt\n",
    "\n",
    "import gc\n",
    "import numpy as np\n",
    "\n",
    "from keras import backend as K\n",
    "from sklearn.metrics import fbeta_score\n",
    "from keras.layers import Conv2D, Dense, LSTM, Flatten, MaxPooling2D, BatchNormalization, Dropout\n",
    "from sklearn.model_selection import train_test_split\n",
    "from sklearn.preprocessing import LabelEncoder\n",
    "from sklearn.preprocessing import OneHotEncoder\n",
    "from tensorflow.keras.models import Model\n",
    "from tensorflow.keras.layers import GlobalAveragePooling2D, Dense\n",
    "\n",
    "from tensorflow.keras.preprocessing.image import load_img, img_to_array\n",
    "from sklearn.metrics import fbeta_score\n",
    "from tqdm import tqdm\n",
    "from sklearn.utils import shuffle\n",
    "\n",
    "import cv2\n",
    "from PIL import Image\n",
    "from tensorflow import keras\n",
    "from tensorflow.keras.layers import Dense\n",
    "from tensorflow.keras.models import Sequential \n",
    "\n",
    "import seaborn as sns\n",
    "import tensorflow as tf\n",
    "\n",
    "import matplotlib.pyplot as plt\n",
    "import matplotlib.image as mpimg\n",
    "from keras.callbacks import ModelCheckpoint, EarlyStopping, ReduceLROnPlateau, History"
   ]
  },
  {
   "cell_type": "markdown",
   "id": "e3418dba",
   "metadata": {},
   "source": [
    "# Datasets"
   ]
  },
  {
   "cell_type": "code",
   "execution_count": 19,
   "id": "346d40ea",
   "metadata": {},
   "outputs": [
    {
     "name": "stderr",
     "output_type": "stream",
     "text": [
      "100%|███████████████████████████████████████████████████████████████████████████| 40479/40479 [01:04<00:00, 630.65it/s]\n"
     ]
    }
   ],
   "source": [
    "\n",
    "path = pd.read_csv(r\"C:\\Users\\clemi\\Downloads\\planet-understanding-the-amazon-from-space\\train_v2.csv\\train_v2.csv\")#Place the train.csv file\n",
    "\n",
    "#Two lists to store images and labels\n",
    "x_train = []\n",
    "y_train = []\n",
    "\n",
    "# Flatten the list of tags\n",
    "flatten = lambda l: [item for sublist in l for item in sublist]\n",
    "labels = list(set(flatten([l.split(' ') for l in path['tags'].values])))\n",
    "\n",
    "# Create a label map for the unique tags in the dataset\n",
    "label_map = {l: i for i, l in enumerate(labels)}\n",
    "inv_label_map = {i: l for l, i in label_map.items()}\n",
    "\n",
    "# Loop through the training DataFrame\n",
    "for f, tags in tqdm(path.values, miniters=1000):\n",
    "    # Read the image file\n",
    "    img = cv2.imread(r'C:\\Users\\clemi\\Downloads\\Sidia\\train-jpg\\train-jpg/{}.jpg'.format(f))\n",
    "    # Resize the image to (64, 64)\n",
    "    targets = np.zeros(17)\n",
    "    # Loop through the additional test files DataFrame\n",
    "    for t in tags.split(' '):\n",
    "        # Set the corresponding target value to 1\n",
    "        targets[label_map[t]] = 1 \n",
    "    # Resize the image to (64, 64)\n",
    "    x_train.append(cv2.resize(img, (64, 64)))  \n",
    "    y_train.append(targets)\n",
    "\n",
    "\n",
    "x_train = np.array(x_train, np.float16) / 255.\n",
    "y_train = np.array(y_train, np.uint8)"
   ]
  },
  {
   "cell_type": "markdown",
   "id": "1f2725e1",
   "metadata": {},
   "source": [
    "# Train X Validation"
   ]
  },
  {
   "cell_type": "code",
   "execution_count": 3,
   "id": "7329fc1f",
   "metadata": {},
   "outputs": [
    {
     "name": "stdout",
     "output_type": "stream",
     "text": [
      "Train data shape: (32383, 64, 64, 3)\n",
      "Train label shape: (32383, 17)\n",
      "Validation data shape: (8096, 64, 64, 3)\n",
      "Validation label shape: (8096, 17)\n"
     ]
    }
   ],
   "source": [
    "#Separating training and validation\n",
    "x_train, x_val, y_train, y_val = train_test_split(x_train, y_train, test_size = 0.2, shuffle = True, random_state = 1)\n",
    "\n",
    "print(\"Train data shape:\",x_train.shape)\n",
    "print(\"Train label shape:\",y_train.shape)\n",
    "\n",
    "print(\"Validation data shape:\",x_val.shape)\n",
    "print(\"Validation label shape:\",y_val.shape)"
   ]
  },
  {
   "cell_type": "markdown",
   "id": "cc517114",
   "metadata": {},
   "source": [
    "# Evaluation Metric"
   ]
  },
  {
   "cell_type": "code",
   "execution_count": 4,
   "id": "f9eca29d",
   "metadata": {},
   "outputs": [],
   "source": [
    "def fbeta(y_true, y_pred, threshold_shift=0):\n",
    "    beta = 2\n",
    "\n",
    "    y_pred = K.clip(y_pred, 0, 1)\n",
    "\n",
    "    y_pred_bin = K.round(y_pred + threshold_shift)\n",
    "\n",
    "    tp = K.sum(K.round(y_true * y_pred_bin)) + K.epsilon()\n",
    "    fp = K.sum(K.round(K.clip(y_pred_bin - y_true, 0, 1)))\n",
    "    fn = K.sum(K.round(K.clip(y_true - y_pred, 0, 1)))\n",
    "\n",
    "    precision = tp / (tp + fp)\n",
    "    recall = tp / (tp + fn)\n",
    "\n",
    "    beta_squared = beta ** 2\n",
    "    return (beta_squared + 1) * (precision * recall) / (beta_squared * precision + recall + K.epsilon())"
   ]
  },
  {
   "cell_type": "markdown",
   "id": "3b3e93e1",
   "metadata": {},
   "source": [
    "# EficientNet"
   ]
  },
  {
   "cell_type": "code",
   "execution_count": 8,
   "id": "fd89bb7c",
   "metadata": {},
   "outputs": [
    {
     "name": "stdout",
     "output_type": "stream",
     "text": [
      "Epoch 1/10\n",
      "506/506 [==============================] - 95s 178ms/step - loss: 0.2613 - fbeta: 0.6022 - accuracy: 0.1781 - val_loss: 0.2545 - val_fbeta: 0.6104 - val_accuracy: 0.1655\n",
      "Epoch 2/10\n",
      "506/506 [==============================] - 88s 173ms/step - loss: 0.2575 - fbeta: 0.6037 - accuracy: 0.1714 - val_loss: 0.2544 - val_fbeta: 0.6104 - val_accuracy: 0.1655\n",
      "Epoch 3/10\n",
      "506/506 [==============================] - 87s 173ms/step - loss: 0.2576 - fbeta: 0.6037 - accuracy: 0.1714 - val_loss: 0.2554 - val_fbeta: 0.6104 - val_accuracy: 0.1655\n",
      "Epoch 4/10\n",
      "506/506 [==============================] - 88s 175ms/step - loss: 0.2576 - fbeta: 0.6038 - accuracy: 0.1714 - val_loss: 0.2540 - val_fbeta: 0.6104 - val_accuracy: 0.1655\n",
      "Epoch 5/10\n",
      "506/506 [==============================] - 89s 175ms/step - loss: 0.2580 - fbeta: 0.6038 - accuracy: 0.1714 - val_loss: 0.2544 - val_fbeta: 0.6104 - val_accuracy: 0.1655\n",
      "Epoch 6/10\n",
      "506/506 [==============================] - 88s 173ms/step - loss: 0.2578 - fbeta: 0.6039 - accuracy: 0.1714 - val_loss: 0.2537 - val_fbeta: 0.6104 - val_accuracy: 0.1655\n",
      "Epoch 7/10\n",
      "506/506 [==============================] - 78s 155ms/step - loss: 0.2576 - fbeta: 0.6039 - accuracy: 0.1714 - val_loss: 0.2553 - val_fbeta: 0.6104 - val_accuracy: 0.1655\n",
      "Epoch 8/10\n",
      "506/506 [==============================] - 79s 157ms/step - loss: 0.2576 - fbeta: 0.6038 - accuracy: 0.1714 - val_loss: 0.2578 - val_fbeta: 0.6104 - val_accuracy: 0.1655\n",
      "Epoch 9/10\n",
      "506/506 [==============================] - 79s 155ms/step - loss: 0.2576 - fbeta: 0.6037 - accuracy: 0.1714 - val_loss: 0.2555 - val_fbeta: 0.6104 - val_accuracy: 0.1655\n",
      "Epoch 10/10\n",
      "506/506 [==============================] - 79s 155ms/step - loss: 0.2577 - fbeta: 0.6038 - accuracy: 0.1714 - val_loss: 0.2552 - val_fbeta: 0.6104 - val_accuracy: 0.1655\n"
     ]
    }
   ],
   "source": [
    "# EficientNet\n",
    "from tensorflow.keras.applications import EfficientNetB0\n",
    "\n",
    "def EfNet():\n",
    "    #Load the EficientNet architecture\n",
    "    base_model = EfficientNetB0(weights='imagenet', include_top=False, input_shape=(64, 64, 3))\n",
    "\n",
    "    # Freeze EficientNet weights so they are not updated during training\n",
    "    for layer in base_model.layers:\n",
    "        layer.trainable = False\n",
    "\n",
    "    # Add additional layers on top of EfficientNetB0\n",
    "    x = base_model.output\n",
    "    x = GlobalAveragePooling2D()(x)\n",
    "    predictions = Dense(17, activation='sigmoid')(x)\n",
    "\n",
    "    # Create the final model\n",
    "    model_EfNet = Model(inputs=base_model.input, outputs=predictions)\n",
    "\n",
    "    # compile the model\n",
    "    model_EfNet.compile(optimizer='adam', loss='binary_crossentropy', metrics=[fbeta, 'accuracy'])\n",
    "    return model_EfNet\n",
    "#Calling the previously created function\n",
    "model_EfNet = EfNet()\n",
    "\n",
    "# Traning Model\n",
    "historyEfNet = model_EfNet.fit(x_train, y_train, validation_data=(x_val, y_val), epochs=10, batch_size=64)"
   ]
  },
  {
   "cell_type": "code",
   "execution_count": 9,
   "id": "caa615f7",
   "metadata": {},
   "outputs": [
    {
     "data": {
      "image/png": "[encoded data removed]",
      "text/plain": [
       "<Figure size 1200x400 with 3 Axes>"
      ]
     },
     "metadata": {},
     "output_type": "display_data"
    }
   ],
   "source": [
    "# Plot the training and validation accuracy and loss curves\n",
    "plt.figure(figsize=(12, 4))\n",
    "\n",
    "plt.subplot(1, 3, 1)\n",
    "plt.plot(historyEfNet.history['fbeta'])\n",
    "plt.plot(historyEfNet.history['val_fbeta'])\n",
    "plt.title('Model FBETA')\n",
    "plt.ylabel('FBETA')\n",
    "plt.xlabel('Epoch')\n",
    "plt.legend(['Training', 'Validation'], loc='upper left')\n",
    "\n",
    "plt.subplot(1, 3, 2)\n",
    "plt.plot(historyEfNet.history['loss'])\n",
    "plt.plot(historyEfNet.history['val_loss'])\n",
    "plt.title('Model Loss')\n",
    "plt.ylabel('Loss')\n",
    "plt.xlabel('Epoch')\n",
    "plt.legend(['Training', 'Validation'], loc='upper left')\n",
    "\n",
    "plt.subplot(1, 3, 3)\n",
    "plt.plot(historyEfNet.history['accuracy'])\n",
    "plt.plot(historyEfNet.history['val_accuracy'])\n",
    "plt.title('Model Accuracy')\n",
    "plt.ylabel('Accuracy')\n",
    "plt.xlabel('Epoch')\n",
    "plt.legend(['Training', 'Validation'], loc='upper left')\n",
    "\n",
    "plt.tight_layout()\n",
    "plt.show()"
   ]
  },
  {
   "cell_type": "code",
   "execution_count": 15,
   "id": "4a558a62",
   "metadata": {},
   "outputs": [
    {
     "name": "stderr",
     "output_type": "stream",
     "text": [
      "100%|██████████████████████████████████████████████████████████████████████████| 40669/40669 [00:40<00:00, 1008.85it/s]\n",
      "100%|██████████████████████████████████████████████████████████████████████████| 20522/20522 [00:20<00:00, 1011.54it/s]\n"
     ]
    }
   ],
   "source": [
    "# Loading the test images\n",
    "samplesub = pd.read_csv(r\"C:\\Users\\clemi\\Downloads\\Sidia\\sample_submission_v2.csv\")\n",
    "\n",
    "test = samplesub[0 : 40669]\n",
    "files = samplesub[40669 : ]\n",
    "\n",
    "\n",
    "# Initialize an empty list to store the images\n",
    "x_test = []\n",
    "y_test = []\n",
    "# Loop through the test DataFrame\n",
    "\n",
    "for image_name, tags in tqdm(test.values, miniters=1000):\n",
    "    # Read the image file\n",
    "    arr = cv2.imread(r'C:\\Users\\clemi\\Downloads\\Sidia\\test-jpg\\test-jpg\\test-jpg/{}.jpg'.format(image_name))\n",
    "    # Resize the image to (64, 64)\n",
    "    x_test.append(cv2.resize(arr, (64, 64)))\n",
    "    for t in tags.split(' '):\n",
    "        targets[label_map[t]] = 1 \n",
    "    y_test.append(targets)\n",
    "    \n",
    "for image_name, tags in tqdm(files.values, miniters=1000):\n",
    "    # Read the image file\n",
    "    arr = cv2.imread(r'C:\\Users\\clemi\\Downloads\\Sidia\\test-jpg-additional\\test-jpg-additional/{}.jpg'.format(image_name))\n",
    "    # Resize the image to (64, 64)\n",
    "    x_test.append(cv2.resize(arr, (64, 64)))\n",
    "    for t in tags.split(' '):\n",
    "        targets[label_map[t]] = 1 \n",
    "    y_test.append(targets)\n",
    "\n",
    "# Convert the list of images to a numpy array and normalize the pixel values\n",
    "x_test = np.array(x_test, np.float16)/255.0"
   ]
  },
  {
   "cell_type": "code",
   "execution_count": 16,
   "id": "0877de47",
   "metadata": {},
   "outputs": [
    {
     "name": "stdout",
     "output_type": "stream",
     "text": [
      "test data shape: (18358, 64, 64, 3)\n",
      "test label shape: (18358, 17)\n"
     ]
    }
   ],
   "source": [
    "# Normalization\n",
    "y_test = np.array(y_test, np.uint8)\n",
    "\n",
    "# test dataset\n",
    "_, x_test, _, y_test = train_test_split(x_test, y_test, test_size = 0.3, shuffle = True, random_state = 1)\n",
    "\n",
    "print(\"test data shape:\",x_test.shape)\n",
    "print(\"test label shape:\",y_test.shape)"
   ]
  },
  {
   "cell_type": "code",
   "execution_count": 17,
   "id": "782f0dc9",
   "metadata": {},
   "outputs": [
    {
     "name": "stdout",
     "output_type": "stream",
     "text": [
      "574/574 [==============================] - 42s 72ms/step - loss: 0.4987 - fbeta: 0.3333 - accuracy: 0.0000e+00\n",
      "Test Loss: 0.49872952699661255\n",
      "Test Accuracy: 0.0\n",
      "Test F-beta: 0.3333323001861572\n"
     ]
    }
   ],
   "source": [
    "# Evaluate the model on the test set\n",
    "test_loss,test_fbeta,test_accuracy = model_EfNet.evaluate(x_test, y_test)\n",
    "print(\"Test Loss:\", test_loss)\n",
    "print(\"Test Accuracy:\", test_accuracy)\n",
    "print(\"Test F-beta:\", test_fbeta)"
   ]
  },
  {
   "cell_type": "code",
   "execution_count": null,
   "id": "6ec9b2ba",
   "metadata": {},
   "outputs": [],
   "source": [
    "# Evaluate the model on the val set\n",
    "val_loss,val_fbeta,val_accuracy = model_EfNet.evaluate(x_val, y_val)\n",
    "print(\"val Loss:\", val_loss)\n",
    "print(\"val Accuracy:\", val_accuracy)\n",
    "print(\"val F-beta:\", val_fbeta)"
   ]
  }
 ],
 "metadata": {
  "kernelspec": {
   "display_name": "Python 3 (ipykernel)",
   "language": "python",
   "name": "python3"
  },
  "language_info": {
   "codemirror_mode": {
    "name": "ipython",
    "version": 3
   },
   "file_extension": ".py",
   "mimetype": "text/x-python",
   "name": "python",
   "nbconvert_exporter": "python",
   "pygments_lexer": "ipython3",
   "version": "3.10.9"
  }
 },
 "nbformat": 4,
 "nbformat_minor": 5
}
